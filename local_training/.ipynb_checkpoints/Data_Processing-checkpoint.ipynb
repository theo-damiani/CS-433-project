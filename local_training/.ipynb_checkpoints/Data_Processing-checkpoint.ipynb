{
 "cells": [
  {
   "cell_type": "markdown",
   "metadata": {},
   "source": [
    "# Data Processing"
   ]
  },
  {
   "cell_type": "code",
   "execution_count": 1,
   "metadata": {},
   "outputs": [],
   "source": [
    "import os\n",
    "os.environ[\"TF_CPP_MIN_LOG_LEVEL\"] = \"2\"\n",
    "import numpy as np\n",
    "import cv2\n",
    "from glob import glob\n",
    "from tqdm import tqdm\n",
    "import matplotlib.pyplot as plt\n",
    "import tensorflow as tf\n",
    "from tensorflow.keras.utils import CustomObjectScope\n",
    "import io\n",
    "from skimage.color import rgb2gray\n",
    "from skimage.filters import sato\n",
    "from skimage import io\n",
    "import skimage.feature"
   ]
  },
  {
   "cell_type": "markdown",
   "metadata": {},
   "source": [
    "## Load Data"
   ]
  },
  {
   "cell_type": "code",
   "execution_count": 2,
   "metadata": {},
   "outputs": [],
   "source": [
    "def load_data(path,extension=\"jpg\"):\n",
    "    \"\"\"Create a list with all the files to process into the given folder\"\"\"\n",
    "    images = sorted(glob(os.path.join(path, \"*.\"+extension)))\n",
    "    return images"
   ]
  },
  {
   "cell_type": "markdown",
   "metadata": {},
   "source": [
    "## Model Loss"
   ]
  },
  {
   "cell_type": "code",
   "execution_count": 3,
   "metadata": {},
   "outputs": [],
   "source": [
    "def iou(y_true, y_pred):\n",
    "    def f(y_true, y_pred):\n",
    "        intersection = (y_true * y_pred).sum()\n",
    "        union = y_true.sum() + y_pred.sum() - intersection\n",
    "        x = (intersection + 1e-15) / (union + 1e-15)\n",
    "        x = x.astype(np.float32)\n",
    "        return x\n",
    "    return tf.numpy_function(f, [y_true, y_pred], tf.float32)\n",
    "\n",
    "smooth = 1e-15\n",
    "def dice_coef(y_true, y_pred):\n",
    "    y_true = tf.keras.layers.Flatten()(y_true)\n",
    "    y_pred = tf.keras.layers.Flatten()(y_pred)\n",
    "    intersection = tf.reduce_sum(y_true * y_pred)\n",
    "    return (2. * intersection + smooth) / (tf.reduce_sum(y_true) + tf.reduce_sum(y_pred) + smooth)\n",
    "\n",
    "def dice_loss(y_true, y_pred):\n",
    "    return 1.0 - dice_coef(y_true, y_pred)"
   ]
  },
  {
   "cell_type": "markdown",
   "metadata": {},
   "source": [
    "## Reshape Data"
   ]
  },
  {
   "cell_type": "code",
   "execution_count": 4,
   "metadata": {},
   "outputs": [],
   "source": [
    "def reshape_image(image,target_shape):\n",
    "    old_image_height, old_image_width, channels = image.shape\n",
    "    # create square of black\n",
    "    square_dim = max(old_image_height,old_image_width)\n",
    "    square_padding = np.full((square_dim,square_dim, channels), fill_value=0, dtype=np.uint8)\n",
    "    # compute centering coordinate\n",
    "    x_center = (square_dim - old_image_width) // 2\n",
    "    y_center = (square_dim - old_image_height) // 2\n",
    "    # paste the image in our new square box\n",
    "    square_padding[y_center:y_center+old_image_height, \n",
    "           x_center:x_center+old_image_width] = image\n",
    "    # resize the square but preserve ratio\n",
    "    new_image = cv2.resize(square_padding,(target_shape[0],target_shape[1])) \n",
    "    return new_image"
   ]
  },
  {
   "cell_type": "markdown",
   "metadata": {},
   "source": [
    "## Increase Vessel Contrast"
   ]
  },
  {
   "cell_type": "code",
   "execution_count": 5,
   "metadata": {},
   "outputs": [],
   "source": [
    "def increase_vessel_contrast(image,model,rate=0.25,only_vessel=False):\n",
    "    \"\"\" Return the image with darker vessels\n",
    "    \n",
    "    Given an image it will use a pre-trained vessel segmentation\n",
    "    model to detect the vessels in the eye. Then it will use this\n",
    "    annotation as a mask that the function will use to increase \n",
    "    the darkness of vessels according to the given rate.\n",
    "    \n",
    "    image : (numpy ndarray) image to process\n",
    "    rate : (float) scale the darkness of vessels\n",
    "    model : (keras.engine.functional.Functional) Pre-trained \n",
    "                model for vessel segmentation\n",
    "    \"\"\"\n",
    "    x = image/255.0\n",
    "    x = x.astype(np.float32)\n",
    "    \"\"\" Prediction \"\"\"\n",
    "    y_pred = model.predict(np.expand_dims(x, axis=0))[0]\n",
    "    y_pred = y_pred > 0.5\n",
    "    y_pred = y_pred.astype(np.int32)\n",
    "    y_pred = np.squeeze(y_pred, axis=-1)\n",
    "    y_pred = np.expand_dims(y_pred, axis=-1)\n",
    "    y_pred = np.concatenate([y_pred, y_pred, y_pred], axis=-1) * 255\n",
    "    if only_vessel:\n",
    "        y_pred = y_pred.astype(np.uint8)\n",
    "        return y_pred\n",
    "    \"\"\" Enhance vessels \"\"\"\n",
    "    z = image\n",
    "    z = z.astype(np.float32)\n",
    "    z -= rate*y_pred\n",
    "    z[z < 0] = 0\n",
    "    z[z > 255] = 255\n",
    "    return z\n",
    "\n",
    "def segment_vessels(filename):\n",
    "    img = io.imread(filename)\n",
    "    gray_img = rgb2gray(img)\n",
    "\n",
    "    threshold = 0.01\n",
    "    ridges = sato(gray_img, mode=\"reflect\")\n",
    "    ridges[ridges >= threshold] = 255\n",
    "    ridges[ridges < threshold] = 0\n",
    "\n",
    "    # mask to remove border of image\n",
    "    hh = int(ridges.shape[0] / 2)\n",
    "    hw = int(ridges.shape[1] / 2)\n",
    "    rr, cc = skimage.draw.disk((hh,hw), 0.9*min(hh,hw))\n",
    "    mask = np.zeros(ridges.shape, dtype=np.uint8)\n",
    "    mask[rr,cc] = 1\n",
    "    masked_image = ridges * mask\n",
    "\n",
    "    return masked_image.astype(np.uint8)"
   ]
  },
  {
   "cell_type": "markdown",
   "metadata": {},
   "source": [
    "## Augment Data"
   ]
  },
  {
   "cell_type": "code",
   "execution_count": 6,
   "metadata": {},
   "outputs": [],
   "source": [
    "def augment_data(image, angle):\n",
    "    \"\"\" return a tuple with the original image and some transformations\"\"\"\n",
    "    height, width = image.shape[:2]\n",
    "    center_X = width // 2 # images are squares \n",
    "    center_Y = center_X\n",
    "    # rotate our image by 45 degrees around the center of the image\n",
    "    M = cv2.getRotationMatrix2D((center_X, center_Y), angle, 1.0)\n",
    "    rotated_image = cv2.warpAffine(image, M, (width, height))\n",
    "    return [image,rotated_image]"
   ]
  },
  {
   "cell_type": "code",
   "execution_count": 7,
   "metadata": {},
   "outputs": [],
   "source": [
    "def translate_data(image, tx, ty):\n",
    "    width, height = image.shape[:2]\n",
    "    M = np.float32([[1,0,tx],\n",
    "                    [0,1,ty]])\n",
    "    shifted = cv2.warpAffine(image, M, (width,height))\n",
    "    return shifted"
   ]
  },
  {
   "cell_type": "markdown",
   "metadata": {},
   "source": [
    "## Save Data"
   ]
  },
  {
   "cell_type": "code",
   "execution_count": 8,
   "metadata": {},
   "outputs": [],
   "source": [
    "def save_data(image,output_path,i,j,gray=True,contrast_threshold=35):\n",
    "    path = output_path+\"/\"+str(i)\n",
    "    tmp = image.copy()\n",
    "    tmp = tmp.astype(np.uint8)\n",
    "    if not os.path.isdir(path):\n",
    "        os.mkdir(path)\n",
    "    gray_image = image\n",
    "    if gray:\n",
    "        gray_image = cv2.cvtColor(tmp, cv2.COLOR_BGR2GRAY)\n",
    "    gray_image[gray_image <= contrast_threshold] = 0\n",
    "    cv2.imwrite(path+\"/\"+str(j)+\".jpg\",gray_image)"
   ]
  },
  {
   "cell_type": "markdown",
   "metadata": {},
   "source": [
    "## Pipeline"
   ]
  },
  {
   "cell_type": "code",
   "execution_count": 24,
   "metadata": {},
   "outputs": [],
   "source": [
    "def process_data(data_path,output_path,model_path,target_shape=(512,512),extension=\"jpg\",vessel_ir=0.25,angle_max=6,seed=10,contrast_threshold=35,only_vessel=False):\n",
    "    os.mkdir(output_path)\n",
    "    np.random.seed(seed)\n",
    "    # Load Images paths\n",
    "    images_paths = load_data(data_path,extension)\n",
    "    # Load pre-trained model\n",
    "    with CustomObjectScope({'iou': iou, 'dice_coef': dice_coef, 'dice_loss': dice_loss}):\n",
    "        model = tf.keras.models.load_model(model_path)\n",
    "    # Process images\n",
    "    for idx, image_path in tqdm(enumerate(images_paths), total=len(images_paths)):\n",
    "        original_image = cv2.imread(image_path, cv2.IMREAD_COLOR)\n",
    "        good_shape_image = reshape_image(original_image.copy(),target_shape)\n",
    "        dark_vessel_image = increase_vessel_contrast(good_shape_image.copy(),model,vessel_ir,only_vessel=only_vessel)\n",
    "        angle = np.random.randint(low=-angle_max,high=angle_max)\n",
    "        augmented_images = augment_data(dark_vessel_image.copy(),angle)\n",
    "        for i in range(len(augmented_images)):\n",
    "            final_image = augmented_images[i]\n",
    "            save_data(final_image.copy(),output_path,idx,i,gray=True,contrast_threshold=contrast_threshold)"
   ]
  },
  {
   "cell_type": "code",
   "execution_count": 25,
   "metadata": {
    "scrolled": true
   },
   "outputs": [
    {
     "name": "stderr",
     "output_type": "stream",
     "text": [
      "100%|███████████████████████████████████████████████████████████████████████████████████████████████████████████████████████████████████████████████████████████████████████████| 397/397 [00:54<00:00,  7.34it/s]\n"
     ]
    }
   ],
   "source": [
    "process_data(\"data/raw_ppm/\",\"data/only_vessel\",\n",
    "             \"/EPFL/master/ML/tmp/Vessel_Segmentation/files/model_75.h5\",\n",
    "            extension=\"ppm\",angle_max=15,vessel_ir=0.25,only_vessel=True)"
   ]
  },
  {
   "cell_type": "markdown",
   "metadata": {},
   "source": [
    "# Pipeline Only Vessels"
   ]
  },
  {
   "cell_type": "code",
   "execution_count": 11,
   "metadata": {},
   "outputs": [],
   "source": [
    "def create_vessel_data(data_path,output_path,model_path,target_shape=(512,512),extension=\"jpg\",angle_max=20,translation_max=50,seed=10):\n",
    "    os.mkdir(output_path)\n",
    "    np.random.seed(seed)\n",
    "    # Load Images paths\n",
    "    images_paths = load_data(data_path,extension)\n",
    "    # Load pre-trained model\n",
    "    with CustomObjectScope({'iou': iou, 'dice_coef': dice_coef, 'dice_loss': dice_loss}):\n",
    "        model = tf.keras.models.load_model(model_path)\n",
    "    # Process images\n",
    "    for idx, image_path in tqdm(enumerate(images_paths), total=len(images_paths)):\n",
    "        original_image = cv2.imread(image_path, cv2.IMREAD_COLOR)\n",
    "        good_shape_image = reshape_image(original_image.copy(),target_shape)\n",
    "        only_vessel_image = increase_vessel_contrast(good_shape_image.copy(),model,only_vessel=True)\n",
    "        # Determine transformations parameters\n",
    "        angle = np.random.randint(low=-angle_max,high=angle_max)\n",
    "        tx = np.random.randint(low=0,high=translation_max)\n",
    "        ty = np.random.randint(low=0,high=translation_max)\n",
    "        augmented_images = augment_data(only_vessel_image.copy(),angle)\n",
    "        augmented_images.append(translate_data(only_vessel_image.copy(),tx,ty))\n",
    "        for i in range(len(augmented_images)):\n",
    "            final_image = augmented_images[i]\n",
    "            save_data(final_image.copy(),output_path,idx,i,gray=False)"
   ]
  },
  {
   "cell_type": "code",
   "execution_count": 12,
   "metadata": {},
   "outputs": [
    {
     "name": "stderr",
     "output_type": "stream",
     "text": [
      "100%|███████████████████████████████████████████████████████████████████████████████████████████████████████████████████████████████████████████████████████████████████████████| 397/397 [00:57<00:00,  6.91it/s]\n"
     ]
    }
   ],
   "source": [
    "create_vessel_data(\"data/raw_ppm/\",\"data/vessel_only\",\n",
    "                   \"/EPFL/master/ML/tmp/Vessel_Segmentation/files/model_75.h5\",\n",
    "            extension=\"ppm\")"
   ]
  },
  {
   "cell_type": "markdown",
   "metadata": {},
   "source": [
    "---"
   ]
  },
  {
   "cell_type": "markdown",
   "metadata": {},
   "source": [
    "# Pipeline Mask"
   ]
  },
  {
   "cell_type": "code",
   "execution_count": 9,
   "metadata": {},
   "outputs": [],
   "source": [
    "def create_mask_data(data_path,output_path,target_shape=(512,512),extension=\".jpg\",angle_max=20,translation_max=50,seed=10):\n",
    "    os.mkdir(output_path)\n",
    "    np.random.seed(seed)\n",
    "    # Load Images paths\n",
    "    images_paths = load_data(data_path,extension)\n",
    "    # Create new Images\n",
    "    for idx, image_path in tqdm(enumerate(images_paths), total=len(images_paths)):\n",
    "        mask_image = segment_vessels(image_path)\n",
    "        good_shape_image = reshape_image(mask_image.copy()[:,:,np.newaxis],target_shape)\n",
    "        angle = np.random.randint(low=-angle_max,high=angle_max)\n",
    "        tx = np.random.randint(low=0,high=translation_max)\n",
    "        ty = np.random.randint(low=0,high=translation_max)\n",
    "        augmented_images = augment_data(good_shape_image.copy(),angle)\n",
    "        augmented_images.append(translate_data(good_shape_image.copy(),tx,ty))\n",
    "        for i in range(len(augmented_images)):\n",
    "            final_image = augmented_images[i]\n",
    "            save_data(final_image.copy(),output_path,idx,i,gray=False)"
   ]
  },
  {
   "cell_type": "code",
   "execution_count": 10,
   "metadata": {},
   "outputs": [
    {
     "name": "stderr",
     "output_type": "stream",
     "text": [
      "100%|████████████████████████████████████████████████████████████████████████████████| 397/397 [02:24<00:00,  2.74it/s]\n"
     ]
    }
   ],
   "source": [
    "create_mask_data(\"data/raw_ppm/\",\"data/mask\",\n",
    "            extension=\"ppm\")"
   ]
  },
  {
   "cell_type": "markdown",
   "metadata": {},
   "source": [
    "---"
   ]
  }
 ],
 "metadata": {
  "kernelspec": {
   "display_name": "Python 3 (ipykernel)",
   "language": "python",
   "name": "python3"
  },
  "language_info": {
   "codemirror_mode": {
    "name": "ipython",
    "version": 3
   },
   "file_extension": ".py",
   "mimetype": "text/x-python",
   "name": "python",
   "nbconvert_exporter": "python",
   "pygments_lexer": "ipython3",
   "version": "3.8.3"
  }
 },
 "nbformat": 4,
 "nbformat_minor": 4
}
