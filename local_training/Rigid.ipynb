{
 "cells": [
  {
   "cell_type": "code",
   "execution_count": 1,
   "metadata": {},
   "outputs": [],
   "source": [
    "import numpy as np\n",
    "import cv2\n",
    "import tensorflow as tf\n",
    "import tensorflow.keras.layers as layers\n",
    "import matplotlib.pyplot as plt"
   ]
  },
  {
   "cell_type": "code",
   "execution_count": 2,
   "metadata": {},
   "outputs": [],
   "source": [
    "#tf.config.run_functions_eagerly(True)"
   ]
  },
  {
   "cell_type": "markdown",
   "metadata": {},
   "source": [
    "# Rigid Transformation"
   ]
  },
  {
   "cell_type": "code",
   "execution_count": 3,
   "metadata": {},
   "outputs": [],
   "source": [
    "def load_image(path,target_size=None):\n",
    "    image = cv2.imread(path)\n",
    "    if target_size:\n",
    "        image = cv2.resize(image,target_size)\n",
    "    image = image / 255\n",
    "    return image\n",
    "\n",
    "def show_images(images):\n",
    "    \"\"\" Takes a list of images and output a horizontal concatenated version of them. \"\"\"\n",
    "    full_image = np.concatenate(images, axis=1)\n",
    "    cv2.imshow(\"Full_Image\",full_image)\n",
    "    cv2.waitKey(0)\n",
    "    cv2.destroyAllWindows()\n",
    "    \n",
    "def create_grid(width,height,num_batch):\n",
    "    \"\"\" Create a 2d grid which is num_batch*list of indices of pixels. \n",
    "    \n",
    "        All the credits for the work goes to https://github.com/kevinzakka\n",
    "    \"\"\"\n",
    "    # Create normalized 2d grid\n",
    "    x = np.linspace(-1, 1, width)\n",
    "    y = np.linspace(-1, 1, height)\n",
    "    x_t, y_t = np.meshgrid(x, y)\n",
    "    # reshape to (xt, yt, 1) to allow translation\n",
    "    ones = np.ones(np.prod(x_t.shape))\n",
    "    sampling_grid = np.vstack([x_t.flatten(), y_t.flatten(), ones])\n",
    "    # repeat grid num_batch times\n",
    "    sampling_grid = np.resize(sampling_grid, (num_batch, 3, height*width))\n",
    "    return sampling_grid\n",
    "\n",
    "def apply_transform(M,input_image,sampling_grid,num_batch,H,W):\n",
    "    \"\"\" Apply a rigid transform to the input image\n",
    "    \n",
    "        All the credits for the work goes to https://github.com/kevinzakka\n",
    "    \"\"\"\n",
    "    #print(f\"Input shapes : {M.shape,input_image.shape,sampling_grid.shape,num_batch,H,W}\")\n",
    "    # transform the sampling grid i.e. batch multiply\n",
    "    batch_grids = np.matmul(M, sampling_grid)\n",
    "    # batch grid has shape (num_batch, 2, H*W)\n",
    "\n",
    "    # reshape to (num_batch, height, width, 2)\n",
    "    batch_grids = batch_grids.reshape(num_batch, 2, H, W)\n",
    "    batch_grids = np.moveaxis(batch_grids, 1, -1)\n",
    "    x_s = batch_grids[:, :, :, 0:1].squeeze()\n",
    "    y_s = batch_grids[:, :, :, 1:2].squeeze()\n",
    "    # rescale x and y to [0, W/H]\n",
    "    x = ((x_s + 1.) * W) * 0.5\n",
    "    y = ((y_s + 1.) * H) * 0.5\n",
    "    # grab 4 nearest corner points for each (x_i, y_i)\n",
    "    x0 = np.floor(x).astype(np.int64)\n",
    "    x1 = x0 + 1\n",
    "    y0 = np.floor(y).astype(np.int64)\n",
    "    y1 = y0 + 1\n",
    "    # make sure it's inside img range [0, H] or [0, W]\n",
    "    x0 = np.clip(x0, 0, W-1)\n",
    "    x1 = np.clip(x1, 0, W-1)\n",
    "    y0 = np.clip(y0, 0, H-1)\n",
    "    y1 = np.clip(y1, 0, H-1)\n",
    "    # make sure it's inside img range [0, H] or [0, W]\n",
    "    x0 = np.clip(x0, 0, W-1)\n",
    "    x1 = np.clip(x1, 0, W-1)\n",
    "    y0 = np.clip(y0, 0, H-1)\n",
    "    y1 = np.clip(y1, 0, H-1)\n",
    "    # look up pixel values at corner coords\n",
    "    Ia = input_image[np.arange(num_batch)[:,None,None], y0, x0]\n",
    "    Ib = input_image[np.arange(num_batch)[:,None,None], y1, x0]\n",
    "    Ic = input_image[np.arange(num_batch)[:,None,None], y0, x1]\n",
    "    Id = input_image[np.arange(num_batch)[:,None,None], y1, x1]\n",
    "    # calculate deltas\n",
    "    wa = (x1-x) * (y1-y)\n",
    "    wb = (x1-x) * (y-y0)\n",
    "    wc = (x-x0) * (y1-y)\n",
    "    wd = (x-x0) * (y-y0)\n",
    "    # add dimension for addition\n",
    "    wa = np.expand_dims(wa, axis=3)\n",
    "    wb = np.expand_dims(wb, axis=3)\n",
    "    wc = np.expand_dims(wc, axis=3)\n",
    "    wd = np.expand_dims(wd, axis=3)\n",
    "    # compute output\n",
    "    out = wa*Ia + wb*Ib + wc*Ic + wd*Id\n",
    "    return out"
   ]
  },
  {
   "cell_type": "markdown",
   "metadata": {},
   "source": [
    "### Preview"
   ]
  },
  {
   "cell_type": "code",
   "execution_count": 4,
   "metadata": {},
   "outputs": [
    {
     "name": "stdout",
     "output_type": "stream",
     "text": [
      "Input Img Shape: (2, 400, 400, 1)\n"
     ]
    }
   ],
   "source": [
    "# params\n",
    "DIMS = (400, 400)\n",
    "CAT1 = 'data/normal/0/0.jpg'\n",
    "CAT2 = 'data/normal/1/0.jpg'\n",
    "\n",
    "# load both cat images\n",
    "img1 = load_image(CAT1,(400,400))\n",
    "img2 = load_image(CAT2,(400,400))\n",
    "\n",
    "# concat into tensor of shape (2, 400, 400, 3)\n",
    "input_img = np.stack([img1[:,:,1], img2[:,:,1]], axis=0) # keep only a color to emulate gray scale\n",
    "input_img = input_img[:,:,:,np.newaxis]\n",
    "# dimension sanity check\n",
    "print(\"Input Img Shape: {}\".format(input_img.shape))"
   ]
  },
  {
   "cell_type": "code",
   "execution_count": 5,
   "metadata": {},
   "outputs": [],
   "source": [
    "# grab shape\n",
    "num_batch, H, W, C = input_img.shape\n",
    "\n",
    "# initialize M to a transform\n",
    "# M = np.array([[1., 0., 0.], [0., 1., 0.]]) # identity \n",
    "M = np.array([[tf.cos(np.pi/16),-tf.sin(np.pi/16),0],\n",
    "              [tf.sin(np.pi/16),tf.cos(np.pi/16),0]])# small rotation\n",
    "\n",
    "# repeat num_batch times\n",
    "M = np.resize(M, (num_batch, 2, 3))"
   ]
  },
  {
   "cell_type": "code",
   "execution_count": 6,
   "metadata": {
    "scrolled": true
   },
   "outputs": [],
   "source": [
    "sampling_grid = create_grid(W,H,num_batch)\n",
    "out = apply_transform(M,input_img,sampling_grid,num_batch,H,W)\n",
    "show_images([out[1]])"
   ]
  },
  {
   "cell_type": "markdown",
   "metadata": {},
   "source": [
    "# Transformation TF"
   ]
  },
  {
   "cell_type": "code",
   "execution_count": 6,
   "metadata": {},
   "outputs": [],
   "source": [
    "# @tf.function\n",
    "def regular_grid_2d(height, width):\n",
    "    x = tf.linspace(-1.0, 1.0, width)  # shape (W, )\n",
    "    y = tf.linspace(-1.0, 1.0, height)  # shape (H, )\n",
    "\n",
    "    X, Y = tf.meshgrid(x, y)  # shape (H, W), both X and Y\n",
    "\n",
    "    grid = tf.stack([X, Y], axis=-1)\n",
    "    return grid\n",
    "\n",
    "\n",
    "# @tf.function\n",
    "def grid_sample_2d(moving, grid):\n",
    "    nb, nh, nw, nc = tf.shape(moving)\n",
    "\n",
    "    x = grid[..., 0]  # shape (N, H, W)\n",
    "    y = grid[..., 1]\n",
    "    x = tf.cast(x, 'float32')\n",
    "    y = tf.cast(y, 'float32')\n",
    "\n",
    "    # Scale x and y from [-1.0, 1.0] to [0, W] and [0, H] respectively.\n",
    "    x = (x + 1.0) * 0.5 * tf.cast(nw-1, 'float32')\n",
    "    y = (y + 1.0) * 0.5 * tf.cast(nh-1, 'float32')\n",
    "\n",
    "    y_max = tf.cast(nh - 1, 'int32')\n",
    "    x_max = tf.cast(nw - 1, 'int32')\n",
    "    zero = tf.constant(0, 'int32')\n",
    "\n",
    "    # The value at (x, y) is a weighted average of the values at the\n",
    "    # four nearest integer locations: (x0, y0), (x1, y0), (x0, y1) and\n",
    "    # (x1, y1) where x0 = floor(x), x1 = ceil(x).\n",
    "    x0 = tf.cast(tf.floor(x), 'int32')\n",
    "    x1 = x0 + 1\n",
    "    y0 = tf.cast(tf.floor(y), 'int32')\n",
    "    y1 = y0 + 1\n",
    "\n",
    "    # Make sure indices are within the boundaries of the image.\n",
    "    x0 = tf.clip_by_value(x0, zero, x_max)\n",
    "    x1 = tf.clip_by_value(x1, zero, x_max)\n",
    "    y0 = tf.clip_by_value(y0, zero, y_max)\n",
    "    y1 = tf.clip_by_value(y1, zero, y_max)\n",
    "\n",
    "    # Collect indices of the four corners.\n",
    "    b = tf.ones_like(x0) * tf.reshape(tf.range(nb), [nb, 1, 1])\n",
    "    idx_a = tf.stack([b, y0, x0], axis=-1)  # all top-left corners\n",
    "    idx_b = tf.stack([b, y1, x0], axis=-1)  # all bottom-left corners\n",
    "    idx_c = tf.stack([b, y0, x1], axis=-1)  # all top-right corners\n",
    "    idx_d = tf.stack([b, y1, x1], axis=-1)  # all bottom-right corners\n",
    "    # shape (N, H, W, 3)\n",
    "\n",
    "    # Collect values at the corners.\n",
    "    moving_a = tf.gather_nd(moving, idx_a)  # all top-left values\n",
    "    moving_b = tf.gather_nd(moving, idx_b)  # all bottom-left values\n",
    "    moving_c = tf.gather_nd(moving, idx_c)  # all top-right values\n",
    "    moving_d = tf.gather_nd(moving, idx_d)  # all bottom-right values\n",
    "    # shape (N, H, W, C)\n",
    "    \n",
    "\n",
    "    x0_f = tf.cast(x0, 'float32')\n",
    "    x1_f = tf.cast(x1, 'float32')\n",
    "    y0_f = tf.cast(y0, 'float32')\n",
    "    y1_f = tf.cast(y1, 'float32')\n",
    "\n",
    "    # Calculate the weights.\n",
    "    wa = tf.expand_dims((x1_f - x) * (y1_f - y), axis=-1)\n",
    "    wb = tf.expand_dims((x1_f - x) * (y - y0_f), axis=-1)\n",
    "    wc = tf.expand_dims((x - x0_f) * (y1_f - y), axis=-1)\n",
    "    wd = tf.expand_dims((x - x0_f) * (y - y0_f), axis=-1)\n",
    "    \n",
    "    # Calculate the weighted sum.\n",
    "    moved = tf.add_n([tf.multiply(wa,moving_a), tf.multiply(wb,moving_b), tf.multiply(wc,moving_c),\n",
    "                      tf.multiply(wd,moving_d)])\n",
    "    return moved"
   ]
  },
  {
   "cell_type": "code",
   "execution_count": 7,
   "metadata": {},
   "outputs": [],
   "source": [
    "# @tf.function\n",
    "def grid_transform(theta, grid):\n",
    "    # todo grid has nb\n",
    "    nb = tf.shape(theta)[0]\n",
    "    nh, nw, _ = tf.shape(grid)\n",
    "    x = grid[..., 0]  # h,w\n",
    "    y = grid[..., 1]\n",
    "\n",
    "    x_flat = tf.reshape(x, shape=[-1]) \n",
    "    y_flat = tf.reshape(y, shape=[-1])\n",
    "    ones = tf.ones_like(x_flat)\n",
    "    grid_flat = tf.stack([x_flat, y_flat, ones])\n",
    "    grid_flat = tf.expand_dims(grid_flat, axis=0)\n",
    "    grid_flat = tf.tile(grid_flat, tf.stack([nb, 1, 1]))\n",
    "\n",
    "    theta = tf.cast(theta, 'float32')\n",
    "    grid_flat = tf.cast(grid_flat, 'float32')\n",
    "\n",
    "    grid_new = tf.matmul(theta, grid_flat)  # n, 2, h*w\n",
    "    grid_new = tf.transpose(grid_new, perm=[0,2,1])\n",
    "    grid_new = tf.reshape(grid_new, [nb, nh, nw, 2])\n",
    "\n",
    "    return grid_new"
   ]
  },
  {
   "cell_type": "code",
   "execution_count": 8,
   "metadata": {},
   "outputs": [],
   "source": [
    "theta = tf.constant([[0,1,0],[1,0,0]])\n",
    "\n",
    "transform = tf.constant(input_img)\n",
    "transform = tf.cast(transform, \"float32\")\n",
    "\n",
    "grid = regular_grid_2d(W,H)\n",
    "grid_new = grid_transform(theta, grid)\n",
    "grid_new = tf.clip_by_value(grid_new, -1, 1)\n",
    "out = grid_sample_2d(transform, grid_new)\n",
    "show_images([out[1]])"
   ]
  },
  {
   "cell_type": "markdown",
   "metadata": {},
   "source": [
    "#  Losses"
   ]
  },
  {
   "cell_type": "code",
   "execution_count": 9,
   "metadata": {},
   "outputs": [],
   "source": [
    "@tf.function\n",
    "def mse_loss(static, moving):\n",
    "    loss = tf.reduce_mean(tf.square(moving - static))  \n",
    "    return loss"
   ]
  },
  {
   "cell_type": "markdown",
   "metadata": {},
   "source": [
    "# Model Definition"
   ]
  },
  {
   "cell_type": "code",
   "execution_count": 10,
   "metadata": {},
   "outputs": [],
   "source": [
    "def deep_net(input_shape=(32,32,1)):\n",
    "    moving = layers.Input(shape=input_shape, name='moving')\n",
    "    static = layers.Input(shape=input_shape, name='static')\n",
    "    # Vision Tower Moving\n",
    "    x_moving_skip = layers.Conv2D(64,kernel_size=3,strides=1,padding=\"same\",activation=\"relu\")(moving)\n",
    "    x_moving = layers.Conv2D(64,kernel_size=3,strides=1,padding=\"same\",activation=\"relu\")(x_moving_skip)\n",
    "    x_moving = layers.Add()([x_moving_skip,x_moving]) # skip connection\n",
    "    # Vision Tower Static\n",
    "    x_static_skip = layers.Conv2D(64,kernel_size=3,strides=1,padding=\"same\",activation=\"relu\")(static)\n",
    "    x_static = layers.Conv2D(64,kernel_size=3,strides=1,padding=\"same\",activation=\"relu\")(x_static_skip)\n",
    "    x_static = layers.Add()([x_static_skip,x_static]) # skip connection\n",
    "    print(f\"Shape of output of vision towers : {x_static.shape},{x_moving.shape}\")\n",
    "    # Merge both inputs into 1D array\n",
    "    x = layers.concatenate([x_moving,x_static],axis=-1,name=\"BipBoup\")\n",
    "    x = layers.Flatten()(x)\n",
    "    print(f\"Shape of flatten input : {x.shape}\")\n",
    "    # Dropout to add regularization\n",
    "    x = layers.Dropout(rate=0.5)(x)\n",
    "    # Dense layers\n",
    "    x = layers.Dense(units=64,activation=\"relu\")(x)\n",
    "    x = layers.Dense(units=64,activation=\"relu\")(x)\n",
    "    x = layers.Dense(units=3,activation=\"relu\")(x)\n",
    "    print(f\"Neural Net output shape : {x.shape}\")\n",
    "    theta = x[:,0]\n",
    "    rotation_matrix = tf.stack([tf.cos(theta),\n",
    "                              -tf.sin(theta),  \n",
    "                               tf.sin(theta),\n",
    "                               tf.cos(theta)],axis=1)\n",
    "    rotation_matrix = tf.reshape(rotation_matrix, (-1,2,2))\n",
    "    print(f\"Shape of rotation matrix {rotation_matrix.shape}\")\n",
    "    translation_vectors = x[:,1:]\n",
    "    M = tf.concat([rotation_matrix,translation_vectors[:,:,np.newaxis]],axis=2)\n",
    "    print(f\"Final tranformation matrix shape : {M.shape}\")\n",
    "    # Move the image according to learned transformation\n",
    "    grid = regular_grid_2d(input_shape[0],input_shape[1])\n",
    "    grid_new = grid_transform(M, grid)\n",
    "    grid_new = tf.clip_by_value(grid_new, -1, 1)\n",
    "    moved = grid_sample_2d(moving, grid_new)\n",
    "    # Final Model\n",
    "    model = tf.keras.Model(inputs=[static,moving],outputs=moved,name=\"Simple_DeepNet\")\n",
    "    return model"
   ]
  },
  {
   "cell_type": "code",
   "execution_count": 11,
   "metadata": {},
   "outputs": [
    {
     "name": "stdout",
     "output_type": "stream",
     "text": [
      "Shape of output of vision towers : (None, 32, 32, 64),(None, 32, 32, 64)\n",
      "Shape of flatten input : (None, 131072)\n",
      "Neural Net output shape : (None, 3)\n",
      "Shape of rotation matrix (None, 2, 2)\n",
      "Final tranformation matrix shape : (None, 2, 3)\n"
     ]
    }
   ],
   "source": [
    "deep_net();"
   ]
  },
  {
   "cell_type": "markdown",
   "metadata": {},
   "source": [
    "# Model Training "
   ]
  },
  {
   "cell_type": "code",
   "execution_count": 12,
   "metadata": {},
   "outputs": [],
   "source": [
    "@tf.function\n",
    "def train_step(model,moving,static,criterion,optimizer):\n",
    "    num_batch, W, H, C = tf.keras.backend.int_shape(moving)  # moving.shape\n",
    "    # Same static\n",
    "    multiples = tf.constant([num_batch, 1, 1, 1], tf.int32)\n",
    "    static = tf.tile(static, multiples)\n",
    "    # Define Gradient Tape\n",
    "    with tf.GradientTape() as tape:\n",
    "        # Get transformation matrices M\n",
    "        #print(moving.shape, static.shape, \"train\")\n",
    "        moved = model({'moving': moving, 'static': static})\n",
    "        # Compute the loss\n",
    "        loss = criterion(moved,static)\n",
    "    # Compute gradients.\n",
    "    grads = tape.gradient(loss, model.trainable_variables)\n",
    "    # Update the trainable parameters.\n",
    "    optimizer.apply_gradients(zip(grads, model.trainable_variables))\n",
    "    return loss"
   ]
  },
  {
   "cell_type": "code",
   "execution_count": 13,
   "metadata": {},
   "outputs": [],
   "source": [
    "@tf.function\n",
    "def test_step(model, moving, static, criterion):\n",
    "    nb, nh, nw, nc = tf.keras.backend.int_shape(moving)  # moving.shape\n",
    "\n",
    "    # Repeat the static image along the batch dim.\n",
    "    multiples = tf.constant([nb, 1, 1, 1], tf.int32)\n",
    "    static = tf.tile(static, multiples)\n",
    "\n",
    "    # Get the deformation field.\n",
    "    # inputs = tf.concat([moving, static], axis=-1)\n",
    "    moved = model({'moving': moving, 'static': static}, training=False)\n",
    "\n",
    "    # Compute the loss.\n",
    "    loss = criterion(moved, static)\n",
    "    return loss"
   ]
  },
  {
   "cell_type": "markdown",
   "metadata": {},
   "source": [
    "# Data Loader"
   ]
  },
  {
   "cell_type": "markdown",
   "metadata": {},
   "source": [
    "### MNIST"
   ]
  },
  {
   "cell_type": "code",
   "execution_count": 14,
   "metadata": {},
   "outputs": [],
   "source": [
    "def load_data(label=2):\n",
    "\n",
    "    (x_train, y_train), (x_test, y_test) = tf.keras.datasets.mnist.load_data()\n",
    "\n",
    "    # Discard digits which are not equal to label.\n",
    "    ids_train = np.where(y_train == label)\n",
    "    ids_test = np.where(y_test == label)\n",
    "\n",
    "    x_train = x_train[ids_train]\n",
    "    x_test = x_test[ids_test]\n",
    "\n",
    "    # Scale the image to [0, 1] range.\n",
    "    x_train = x_train.astype(np.float32) / 255.0\n",
    "    x_test = x_test.astype(np.float32) / 255.0\n",
    "\n",
    "    # Add the channel dim at the end. (N, H, W) --> (N, H, W, 1)\n",
    "    x_train = x_train[..., None]\n",
    "    x_test = x_test[..., None]\n",
    "\n",
    "    # Resize images from (28, 28) to (32, 32).\n",
    "    x_train = tf.image.resize(x_train, (32, 32))\n",
    "    x_test = tf.image.resize(x_test, (32, 32))\n",
    "    return x_train, x_test"
   ]
  },
  {
   "cell_type": "markdown",
   "metadata": {},
   "source": [
    "# Plot images"
   ]
  },
  {
   "cell_type": "code",
   "execution_count": 15,
   "metadata": {},
   "outputs": [],
   "source": [
    "def plot_images(model, moving, static):\n",
    "    nb, nh, nw, nc = moving.shape\n",
    "\n",
    "    # Repeat the static image along the batch dim.\n",
    "    multiples = tf.constant([nb, 1, 1, 1], tf.int32)\n",
    "    static = tf.tile(static, multiples)\n",
    "\n",
    "    moved = model({'moving': moving, 'static': static}, training=False)\n",
    "\n",
    "    # Convert the tensors to 8-bit images.\n",
    "    moved = moved.numpy().squeeze(axis=-1) * 255.0\n",
    "    moved = moved.astype(np.uint8)\n",
    "    moving = moving.numpy().squeeze(axis=-1) * 255.0\n",
    "    moving = moving.astype(np.uint8)\n",
    "    static = static.numpy().squeeze(axis=-1) * 255.0\n",
    "    static = static.astype(np.uint8)\n",
    "\n",
    "    # Plot images.\n",
    "    fig = plt.figure(figsize=(3 * 1.7, nb * 1.7))\n",
    "    titles_list = ['Static', 'Moved', 'Moving']\n",
    "    images_list = [static, moved, moving]\n",
    "    for i in range(nb):\n",
    "        for j in range(3):\n",
    "            ax = fig.add_subplot(nb, 3, i * 3 + j + 1)\n",
    "            if i == 0:\n",
    "                ax.set_title(titles_list[j], fontsize=20)\n",
    "            ax.set_axis_off()\n",
    "            ax.imshow(images_list[j][i], cmap='gray')\n",
    "\n",
    "    plt.tight_layout()\n",
    "    plt.show()"
   ]
  },
  {
   "cell_type": "markdown",
   "metadata": {},
   "source": [
    "# Pipeline"
   ]
  },
  {
   "cell_type": "code",
   "execution_count": 16,
   "metadata": {},
   "outputs": [],
   "source": [
    "def main(args):\n",
    "\n",
    "    # Load preprocessed training and testing data.\n",
    "    x_train, x_test = load_data(label=args.label)\n",
    "\n",
    "    # Randomly select an image as the static image from the test set.\n",
    "    idx = np.random.randint(x_test.shape[0])\n",
    "    static = tf.expand_dims(x_test[idx], axis=0)\n",
    "    print(f\"static image chosen = {idx}\")\n",
    "\n",
    "    # Select some images from the test set to show sample results.\n",
    "    ids = tf.constant(np.random.choice(x_test.shape[0], replace=False,\n",
    "                                       size=args.num_samples))\n",
    "    x_sample = tf.gather(x_test, ids)\n",
    "\n",
    "    # Shuffle and batch the dataset.\n",
    "    from_tensor_slices = tf.data.Dataset.from_tensor_slices\n",
    "    x_train = from_tensor_slices(x_train).shuffle(10000).batch(args.batch_size)\n",
    "    x_test = from_tensor_slices(x_test).shuffle(10000).batch(args.batch_size)\n",
    "\n",
    "    # Create a model instance.\n",
    "    model = deep_net(input_shape=(32, 32, 1))\n",
    "\n",
    "    # Select optimizer and loss function.\n",
    "    optimizer = tf.keras.optimizers.SGD(learning_rate=args.lr)\n",
    "    criterion = mse_loss  \n",
    "\n",
    "    # Define the metrics to track training and testing losses.\n",
    "    m_train = tf.keras.metrics.Mean(name='loss_train')\n",
    "    m_test = tf.keras.metrics.Mean(name='loss_test')\n",
    "\n",
    "    # Train and evaluate the model.\n",
    "    for epoch in range(args.epochs):\n",
    "        m_train.reset_states()\n",
    "        m_test.reset_states()\n",
    "        for i, moving in enumerate(x_train):\n",
    "            #static = tf.repeat(static_base, moving.shape[0], axis=0)\n",
    "            #print(static.shape, moving.shape, \"main\", i)\n",
    "            loss_train = train_step(model, moving, static, criterion,\n",
    "                                    optimizer)\n",
    "            m_train.update_state(loss_train)\n",
    "\n",
    "        for i, moving in enumerate(x_test):\n",
    "            loss_test = test_step(model, moving, static, criterion)\n",
    "            m_test.update_state(loss_test)\n",
    "\n",
    "        print('Epoch: %3d/%d\\tTrain Loss: %.6f\\tTest Loss: %.6f'\n",
    "              % (epoch + 1, args.epochs, m_train.result(), m_test.result()))\n",
    "    print('\\n')\n",
    "\n",
    "    # Show sample results.\n",
    "    plot_images(model, x_sample, static)\n",
    "\n",
    "    # Save the trained model.\n",
    "    if args.save_model:\n",
    "        model.save('saved_models/simple_cnn')"
   ]
  },
  {
   "cell_type": "code",
   "execution_count": 17,
   "metadata": {},
   "outputs": [
    {
     "name": "stdout",
     "output_type": "stream",
     "text": [
      "static image chosen = 415\n",
      "Shape of output of vision towers : (None, 32, 32, 64),(None, 32, 32, 64)\n",
      "Shape of flatten input : (None, 131072)\n",
      "Neural Net output shape : (None, 3)\n",
      "Shape of rotation matrix (None, 2, 2)\n",
      "Final tranformation matrix shape : (None, 2, 3)\n",
      "Epoch:   1/20\tTrain Loss: 0.019670\tTest Loss: 0.018185\n",
      "Epoch:   2/20\tTrain Loss: 0.017508\tTest Loss: 0.018041\n",
      "Epoch:   3/20\tTrain Loss: 0.017397\tTest Loss: 0.017988\n",
      "Epoch:   4/20\tTrain Loss: 0.017335\tTest Loss: 0.017946\n",
      "Epoch:   5/20\tTrain Loss: 0.017301\tTest Loss: 0.017930\n",
      "Epoch:   6/20\tTrain Loss: 0.017279\tTest Loss: 0.017926\n",
      "Epoch:   7/20\tTrain Loss: 0.017253\tTest Loss: 0.017907\n",
      "Epoch:   8/20\tTrain Loss: 0.017239\tTest Loss: 0.017895\n",
      "Epoch:   9/20\tTrain Loss: 0.017229\tTest Loss: 0.017893\n",
      "Epoch:  10/20\tTrain Loss: 0.017218\tTest Loss: 0.017949\n",
      "Epoch:  11/20\tTrain Loss: 0.017206\tTest Loss: 0.017876\n",
      "Epoch:  12/20\tTrain Loss: 0.017198\tTest Loss: 0.017868\n",
      "Epoch:  13/20\tTrain Loss: 0.017189\tTest Loss: 0.017872\n",
      "Epoch:  14/20\tTrain Loss: 0.017181\tTest Loss: 0.017864\n",
      "Epoch:  15/20\tTrain Loss: 0.017176\tTest Loss: 0.017880\n",
      "Epoch:  16/20\tTrain Loss: 0.017170\tTest Loss: 0.017872\n",
      "Epoch:  17/20\tTrain Loss: 0.017164\tTest Loss: 0.017862\n",
      "Epoch:  18/20\tTrain Loss: 0.017158\tTest Loss: 0.017876\n",
      "Epoch:  19/20\tTrain Loss: 0.017156\tTest Loss: 0.017851\n",
      "Epoch:  20/20\tTrain Loss: 0.017147\tTest Loss: 0.017836\n",
      "\n",
      "\n"
     ]
    },
    {
     "data": {
      "image/png": "[encoded data removed]",
      "text/plain": [
       "<Figure size 367.2x1224 with 30 Axes>"
      ]
     },
     "metadata": {
      "needs_background": "light"
     },
     "output_type": "display_data"
    }
   ],
   "source": [
    "if __name__ == '__main__':\n",
    "\n",
    "    class Args():\n",
    "        batch_size = 8\n",
    "        epochs = 20\n",
    "        lr = 0.004\n",
    "        label = 1  # which digit images to train on?\n",
    "        num_samples =  10 # number of sample results to show\n",
    "        save_model = False\n",
    "    \n",
    "    args = Args()\n",
    "    main(args)"
   ]
  },
  {
   "cell_type": "code",
   "execution_count": null,
   "metadata": {},
   "outputs": [],
   "source": []
  }
 ],
 "metadata": {
  "kernelspec": {
   "display_name": "Python 3",
   "language": "python",
   "name": "python3"
  },
  "language_info": {
   "codemirror_mode": {
    "name": "ipython",
    "version": 3
   },
   "file_extension": ".py",
   "mimetype": "text/x-python",
   "name": "python",
   "nbconvert_exporter": "python",
   "pygments_lexer": "ipython3",
   "version": "3.8.5"
  }
 },
 "nbformat": 4,
 "nbformat_minor": 4
}
