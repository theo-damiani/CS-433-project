{
 "cells": [
  {
   "cell_type": "code",
   "execution_count": 65,
   "metadata": {},
   "outputs": [],
   "source": [
    "# Copyright Dherse Alexandre Pierre, alexandrepierre.dherse@fa2.ch\n",
    "\n",
    "import io\n",
    "from skimage.color import rgb2gray\n",
    "from skimage.filters import sato\n",
    "from skimage import io\n",
    "import skimage.feature\n",
    "import numpy as np\n",
    "import cv2\n",
    "\n",
    "def segment_vessels(filename):\n",
    "    img = io.imread(filename)\n",
    "    gray_img = rgb2gray(img)\n",
    "\n",
    "    threshold = 0.01\n",
    "    ridges = sato(gray_img, mode=\"reflect\")\n",
    "    ridges[ridges >= threshold] = 255\n",
    "    ridges[ridges < threshold] = 0\n",
    "\n",
    "    # mask to remove border of image\n",
    "    hh = int(ridges.shape[0] / 2)\n",
    "    hw = int(ridges.shape[1] / 2)\n",
    "    rr, cc = skimage.draw.disk((hh,hw), 0.90*min(hh,hw))\n",
    "    mask = np.zeros(ridges.shape, dtype=np.uint8)\n",
    "    mask[rr,cc] = 1\n",
    "    masked_image = ridges * mask\n",
    "\n",
    "    return masked_image.astype(np.uint8)"
   ]
  },
  {
   "cell_type": "code",
   "execution_count": 66,
   "metadata": {},
   "outputs": [],
   "source": [
    "test = segment_vessels(\"data/raw_ppm/im0082.ppm\")"
   ]
  },
  {
   "cell_type": "code",
   "execution_count": 67,
   "metadata": {},
   "outputs": [],
   "source": [
    "cv2.imshow(\"test\",test)\n",
    "cv2.waitKey(0)\n",
    "# and finally destroy/close all open windows\n",
    "cv2.destroyAllWindows()"
   ]
  },
  {
   "cell_type": "code",
   "execution_count": null,
   "metadata": {},
   "outputs": [],
   "source": []
  }
 ],
 "metadata": {
  "kernelspec": {
   "display_name": "Python 3",
   "language": "python",
   "name": "python3"
  },
  "language_info": {
   "codemirror_mode": {
    "name": "ipython",
    "version": 3
   },
   "file_extension": ".py",
   "mimetype": "text/x-python",
   "name": "python",
   "nbconvert_exporter": "python",
   "pygments_lexer": "ipython3",
   "version": "3.8.5"
  }
 },
 "nbformat": 4,
 "nbformat_minor": 4
}
